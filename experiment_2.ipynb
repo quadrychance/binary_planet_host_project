{
 "cells": [
  {
   "cell_type": "code",
   "execution_count": 1,
   "metadata": {},
   "outputs": [],
   "source": [
    "%matplotlib inline"
   ]
  },
  {
   "cell_type": "code",
   "execution_count": 3,
   "metadata": {},
   "outputs": [],
   "source": [
    "import matplotlib.pyplot as plt\n",
    "from tqdm import tqdm\n",
    "plt.rcParams[\"text.usetex\"] = False\n",
    "import numpy as np\n",
    "from isochrones import get_ichrone\n",
    "from isochrones.utils import addmags\n",
    "from isochrones import SingleStarModel"
   ]
  },
  {
   "cell_type": "markdown",
   "metadata": {},
   "source": []
  },
  {
   "cell_type": "code",
   "execution_count": 4,
   "metadata": {},
   "outputs": [],
   "source": [
    "distance = 500  # pc\n",
    "AV = 0.2\n",
    "mass_A = 1.0\n",
    "mass_B = [.7]\n",
    "age = 9.6\n",
    "feh = 0.0\n",
    "\n",
    "# Synthetic 2MASS and Gaia magnitudes\n",
    "bands = ['J', 'H', 'K', 'BP', 'RP', 'G']\n",
    "mist = get_ichrone('mist')\n",
    "data_A = mist.track.generate(mass_A, age, feh, distance=distance, AV=AV, bands=bands, return_dict=True, accurate=True)\n",
    "data_B = mist.track.generate(mass_B, age, feh, distance=distance, AV=AV, bands=bands, return_dict=True, accurate=True)\n",
    "\n",
    "# Test uncertainties\n",
    "unc = dict(J=0.02, H=0.02, K=0.02, BP=0.002, RP=0.002, G=0.001)\n",
    "\n",
    "# This is the offest introduced by the noise\n",
    "np.random.seed(546)\n",
    "eps = {b: unc[b] * np.random.randn() for b in unc}\n",
    "\n",
    "# Simulated Gaia parallax\n",
    "parallax = (1000 / distance + 0.05 * np.random.randn(), 0.05)\n",
    "\n",
    "# Observations if we had just seen A\n",
    "mags_A = {b: (data_A[b + \"_mag\"], unc[b]) for b in unc}\n",
    "\n",
    "# Observations if we have unresolved binary\n",
    "mags_tot = {b: (addmags(data_A[b + \"_mag\"], data_B[b + \"_mag\"]), unc[b]) for b in unc}\n",
    "mod_gaussian = SingleStarModel(mist, **mags_tot, parallax=parallax, name=f\"gaussian(?) prior\")"
   ]
  },
  {
   "cell_type": "markdown",
   "metadata": {},
   "source": []
  },
  {
   "cell_type": "code",
   "execution_count": null,
   "metadata": {},
   "outputs": [
    {
     "name": "stderr",
     "output_type": "stream",
     "text": [
      "/home/quadry/isochrones/isochrones/priors.py:323: RuntimeWarning: divide by zero encountered in log\n",
      "  return np.log(C) + self.alpha * np.log(x)\n"
     ]
    }
   ],
   "source": [
    "mod_gaussian.set_bounds(eep=(1, 600), age=(8, 10))\n",
    "mod_gaussian.fit(n_live_points=2000)\n",
    "\n",
    "columns = ['mass', 'age', 'feh', 'distance', 'AV', 'J_mag', 'H_mag', 'K_mag']\n",
    "truths = [None, age, feh, distance, AV]"
   ]
  },
  {
   "cell_type": "markdown",
   "metadata": {},
   "source": []
  },
  {
   "cell_type": "code",
   "execution_count": 9,
   "metadata": {},
   "outputs": [],
   "source": [
    "\n",
    "distance = 500  # pc\n",
    "AV = 0.2\n",
    "mass_A = 1.0\n",
    "mass_B = [.7]\n",
    "age = 9.6\n",
    "feh = 0.0\n",
    "\n",
    "# Synthetic 2MASS and Gaia magnitudes\n",
    "bands = ['J', 'H', 'K', 'BP', 'RP', 'G']\n",
    "mist = get_ichrone('mist')\n",
    "data_A = mist.track.generate(mass_A, age, feh, distance=distance, AV=AV, bands=bands, return_dict=True, accurate=True)\n",
    "data_B = mist.track.generate(mass_B, age, feh, distance=distance, AV=AV, bands=bands, return_dict=True, accurate=True)\n",
    "\n",
    "# Test uncertainties\n",
    "unc = dict(J=0.02, H=0.02, K=0.02, BP=0.002, RP=0.002, G=0.001)\n",
    "\n",
    "# This is the offest introduced by the noise\n",
    "np.random.seed(546)\n",
    "eps = {b: unc[b] * np.random.randn() for b in unc}\n",
    "\n",
    "# Simulated Gaia parallax\n",
    "parallax = (1000 / distance + 0.05 * np.random.randn(), 0.05)\n",
    "\n",
    "# Observations if we had just seen A\n",
    "mags_A = {b: (data_A[b + \"_mag\"], unc[b]) for b in unc}\n",
    "\n",
    "# Observations if we have unresolved binary\n",
    "mags_tot = {b: (addmags(data_A[b + \"_mag\"], data_B[b + \"_mag\"]), unc[b]) for b in unc}\n",
    "mod_flat = SingleStarModel(mist, **mags_tot, parallax=parallax, name=f\"flat_prior\")"
   ]
  },
  {
   "cell_type": "code",
   "execution_count": 10,
   "metadata": {},
   "outputs": [],
   "source": [
    "from isochrones.priors import FlatPrior\n",
    "mod_flat.set_prior(AV=FlatPrior((0.0001, 0.001))) \n",
    "#mod_simple[0].set_prior(AV=FlatPrior((0.0001, 0.001))) \n",
    "#mod_simple[0].sample_from_prior(100) "
   ]
  },
  {
   "cell_type": "markdown",
   "metadata": {},
   "source": []
  },
  {
   "cell_type": "code",
   "execution_count": null,
   "metadata": {},
   "outputs": [
    {
     "name": "stderr",
     "output_type": "stream",
     "text": [
      "ERROR: Interrupt received: Terminating\n",
      "Exception ignored on calling ctypes callback function: <function run.<locals>.loglike at 0x7f3e8a897550>\n",
      "Traceback (most recent call last):\n",
      "  File \"/home/quadry/anaconda3/envs/isochrones/lib/python3.8/site-packages/pymultinest/run.py\", line 216, in loglike\n",
      "    return LogLikelihood(cube, ndim, nparams)\n",
      "  File \"/home/quadry/isochrones/isochrones/starmodel.py\", line 1645, in mnest_loglike\n",
      "    return self.lnpost(cube)\n",
      "  File \"/home/quadry/isochrones/isochrones/starmodel.py\", line 539, in lnpost\n",
      "    lnpr = self.lnprior(p)\n",
      "  File \"/home/quadry/isochrones/isochrones/starmodel.py\", line 1631, in lnprior\n",
      "    lnp += self._priors[\"eep\"].lnpdf(val, age=pars[self.age_index], feh=pars[self.feh_index])\n",
      "  File \"/home/quadry/isochrones/isochrones/priors.py\", line 139, in lnpdf\n",
      "    pdf = self.pdf(x, **kwargs)\n",
      "  File \"/home/quadry/isochrones/isochrones/priors.py\", line 59, in pdf\n",
      "    return self._pdf(x, **kwargs) / self._norm\n",
      "  File \"/home/quadry/isochrones/isochrones/priors.py\", line 429, in _pdf\n",
      "    return self.orig_prior(orig_val) * dx_deep\n",
      "  File \"/home/quadry/isochrones/isochrones/priors.py\", line 36, in __call__\n",
      "    return self.pdf(x, **kwargs)\n",
      "  File \"/home/quadry/isochrones/isochrones/priors.py\", line 59, in pdf\n",
      "    return self._pdf(x, **kwargs) / self._norm\n",
      "  File \"/home/quadry/isochrones/isochrones/priors.py\", line 206, in _pdf\n",
      "    i = np.digitize(x, self.breakpoints)\n",
      "  File \"<__array_function__ internals>\", line 5, in digitize\n",
      "  File \"/home/quadry/anaconda3/envs/isochrones/lib/python3.8/site-packages/numpy/lib/function_base.py\", line 4773, in digitize\n",
      "    if np.issubdtype(x.dtype, _nx.complexfloating):\n",
      "  File \"/home/quadry/anaconda3/envs/isochrones/lib/python3.8/site-packages/numpy/core/numerictypes.py\", line 388, in issubdtype\n",
      "    arg1 = dtype(arg1).type\n",
      "  File \"/home/quadry/anaconda3/envs/isochrones/lib/python3.8/site-packages/pymultinest/run.py\", line 68, in interrupt_handler\n",
      "    sys.exit(1)\n",
      "SystemExit: 1\n",
      "ERROR: Interrupt received: Terminating\n",
      "Exception ignored on calling ctypes callback function: <function run.<locals>.loglike at 0x7f3e8a897550>\n",
      "Traceback (most recent call last):\n",
      "  File \"/home/quadry/anaconda3/envs/isochrones/lib/python3.8/site-packages/pymultinest/run.py\", line 216, in loglike\n",
      "    return LogLikelihood(cube, ndim, nparams)\n",
      "  File \"/home/quadry/isochrones/isochrones/starmodel.py\", line 1645, in mnest_loglike\n",
      "    return self.lnpost(cube)\n",
      "  File \"/home/quadry/isochrones/isochrones/starmodel.py\", line 539, in lnpost\n",
      "    lnpr = self.lnprior(p)\n",
      "  File \"/home/quadry/isochrones/isochrones/starmodel.py\", line 1633, in lnprior\n",
      "    lnp += self._priors[par].lnpdf(val)\n",
      "  File \"/home/quadry/isochrones/isochrones/priors.py\", line 65, in lnpdf\n",
      "    pdf = self(x, **kwargs)\n",
      "  File \"/home/quadry/isochrones/isochrones/priors.py\", line 36, in __call__\n",
      "    return self.pdf(x, **kwargs)\n",
      "  File \"/home/quadry/isochrones/isochrones/priors.py\", line 59, in pdf\n",
      "    return self._pdf(x, **kwargs) / self._norm\n",
      "  File \"/home/quadry/isochrones/isochrones/priors.py\", line 369, in _pdf\n",
      "    + 0.2 / 0.22 * np.exp(-0.5 * (feh + 0.15) ** 2.0 / 0.22 ** 2.0)\n",
      "  File \"/home/quadry/anaconda3/envs/isochrones/lib/python3.8/site-packages/pymultinest/run.py\", line 68, in interrupt_handler\n",
      "    sys.exit(1)\n",
      "SystemExit: 1\n"
     ]
    }
   ],
   "source": [
    "\n",
    "mod_single.set_bounds(eep=(1, 600), age=(8, 10))\n",
    "mod_single.fit(n_live_points=2000)\n",
    "\n",
    "columns = ['mass', 'age', 'feh', 'distance', 'AV', 'J_mag', 'H_mag', 'K_mag']\n",
    "truths = [None, age, feh, distance, AV]\n",
    "#mod_single.corner_derived(columns).savefig(f'single_{count}.png')\n",
    "count += 1\n",
    "mod_single.corner_observed(truths=truths);\n"
   ]
  },
  {
   "cell_type": "code",
   "execution_count": null,
   "metadata": {},
   "outputs": [],
   "source": [
    "\n"
   ]
  },
  {
   "cell_type": "code",
   "execution_count": null,
   "metadata": {},
   "outputs": [],
   "source": []
  },
  {
   "cell_type": "code",
   "execution_count": null,
   "metadata": {},
   "outputs": [],
   "source": []
  },
  {
   "cell_type": "markdown",
   "metadata": {},
   "source": []
  },
  {
   "cell_type": "code",
   "execution_count": null,
   "metadata": {},
   "outputs": [],
   "source": []
  },
  {
   "cell_type": "markdown",
   "metadata": {},
   "source": []
  },
  {
   "cell_type": "code",
   "execution_count": null,
   "metadata": {},
   "outputs": [],
   "source": []
  },
  {
   "cell_type": "code",
   "execution_count": 8,
   "metadata": {},
   "outputs": [
    {
     "data": {
      "text/plain": [
       "0.4065412503323398"
      ]
     },
     "execution_count": 8,
     "metadata": {},
     "output_type": "execute_result"
    }
   ],
   "source": []
  },
  {
   "cell_type": "code",
   "execution_count": 25,
   "metadata": {},
   "outputs": [
    {
     "data": {
      "text/plain": [
       "0.7125849689798986"
      ]
     },
     "execution_count": 25,
     "metadata": {},
     "output_type": "execute_result"
    }
   ],
   "source": []
  },
  {
   "cell_type": "code",
   "execution_count": null,
   "metadata": {},
   "outputs": [],
   "source": []
  },
  {
   "cell_type": "code",
   "execution_count": null,
   "metadata": {},
   "outputs": [],
   "source": []
  },
  {
   "cell_type": "code",
   "execution_count": null,
   "metadata": {},
   "outputs": [],
   "source": []
  },
  {
   "cell_type": "code",
   "execution_count": null,
   "metadata": {},
   "outputs": [],
   "source": []
  },
  {
   "cell_type": "code",
   "execution_count": null,
   "metadata": {},
   "outputs": [],
   "source": []
  },
  {
   "cell_type": "code",
   "execution_count": null,
   "metadata": {},
   "outputs": [],
   "source": []
  },
  {
   "cell_type": "code",
   "execution_count": null,
   "metadata": {},
   "outputs": [],
   "source": []
  },
  {
   "cell_type": "code",
   "execution_count": null,
   "metadata": {},
   "outputs": [],
   "source": []
  },
  {
   "cell_type": "code",
   "execution_count": null,
   "metadata": {},
   "outputs": [],
   "source": []
  },
  {
   "cell_type": "code",
   "execution_count": null,
   "metadata": {},
   "outputs": [],
   "source": []
  },
  {
   "cell_type": "code",
   "execution_count": null,
   "metadata": {},
   "outputs": [],
   "source": []
  },
  {
   "cell_type": "code",
   "execution_count": null,
   "metadata": {},
   "outputs": [],
   "source": []
  },
  {
   "cell_type": "code",
   "execution_count": null,
   "metadata": {},
   "outputs": [],
   "source": []
  },
  {
   "cell_type": "code",
   "execution_count": null,
   "metadata": {},
   "outputs": [],
   "source": [
    "mod_binary[0].fit()"
   ]
  },
  {
   "cell_type": "markdown",
   "metadata": {},
   "source": [
    "The mass ratio is less than 0.3 at 90% \"confidence\". The details of this statement probably need some work. Perhaps this is promising!"
   ]
  },
  {
   "cell_type": "code",
   "execution_count": 6,
   "metadata": {},
   "outputs": [],
   "source": [
    "from isochrones.priors import FlatPrior\n",
    "mod_simple[0].set_prior(AV=FlatPrior((0.0001, 0.001))) \n",
    "#mod_simple[0].set_prior(AV=FlatPrior((0.0001, 0.001))) \n",
    "#mod_simple[0].sample_from_prior(100) "
   ]
  },
  {
   "cell_type": "code",
   "execution_count": null,
   "metadata": {},
   "outputs": [],
   "source": []
  }
 ],
 "metadata": {
  "kernelspec": {
   "display_name": "Python 3",
   "language": "python",
   "name": "python3"
  },
  "language_info": {
   "codemirror_mode": {
    "name": "ipython",
    "version": 3
   },
   "file_extension": ".py",
   "mimetype": "text/x-python",
   "name": "python",
   "nbconvert_exporter": "python",
   "pygments_lexer": "ipython3",
   "version": "3.8.6"
  }
 },
 "nbformat": 4,
 "nbformat_minor": 4
}
